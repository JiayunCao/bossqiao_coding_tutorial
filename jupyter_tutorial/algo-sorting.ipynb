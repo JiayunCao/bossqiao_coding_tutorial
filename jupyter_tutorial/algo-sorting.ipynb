{
 "cells": [
  {
   "cell_type": "code",
   "execution_count": 34,
   "metadata": {
    "collapsed": true
   },
   "outputs": [],
   "source": [
    "from random import randint"
   ]
  },
  {
   "cell_type": "code",
   "execution_count": 35,
   "metadata": {},
   "outputs": [
    {
     "data": {
      "text/plain": [
       "[5, 32, 30, 10, 31, 40, 32, 50, 14, 29]"
      ]
     },
     "execution_count": 35,
     "metadata": {},
     "output_type": "execute_result"
    }
   ],
   "source": [
    "# 创建随机数组进行排序\n",
    "def create_array(size=10, max=50):\n",
    "    return [randint(0,max) for _ in range(size)]\n",
    "\n",
    "random_array=create_array()\n",
    "random_array"
   ]
  },
  {
   "cell_type": "markdown",
   "metadata": {},
   "source": [
    "> <font color=red size=3>以下代码实现快速排序 quicksort()</font>"
   ]
  },
  {
   "cell_type": "code",
   "execution_count": 36,
   "metadata": {},
   "outputs": [
    {
     "name": "stdout",
     "output_type": "stream",
     "text": [
      "[5, 32, 30, 10, 31, 40, 32, 50, 14, 29]\n",
      "[5, 10, 14, 29, 30, 31, 32, 32, 40, 50]\n"
     ]
    }
   ],
   "source": [
    "def quicksort(a):\n",
    "    if len(a)<=1: return a\n",
    "    smaller,equal,larger=[],[],[]\n",
    "    pivot=a[randint(0,len(a)-1)] #从数组中随机选择一个元素作为pivot，避免worst case\n",
    "    \n",
    "    for x in a:\n",
    "        if x<pivot:    smaller.append(x)\n",
    "        elif x==pivot: equal.append(x)\n",
    "        else:          larger.append(x)\n",
    "    \n",
    "    return quicksort(smaller)+equal+quicksort(larger)\n",
    "\n",
    "sorted_array= quicksort(random_array)\n",
    "print(random_array)\n",
    "print(sorted_array)"
   ]
  },
  {
   "cell_type": "code",
   "execution_count": null,
   "metadata": {
    "collapsed": true
   },
   "outputs": [],
   "source": []
  }
 ],
 "metadata": {
  "kernelspec": {
   "display_name": "Python 3",
   "language": "python",
   "name": "python3"
  },
  "language_info": {
   "codemirror_mode": {
    "name": "ipython",
    "version": 3
   },
   "file_extension": ".py",
   "mimetype": "text/x-python",
   "name": "python",
   "nbconvert_exporter": "python",
   "pygments_lexer": "ipython3",
   "version": "3.6.8"
  }
 },
 "nbformat": 4,
 "nbformat_minor": 2
}
