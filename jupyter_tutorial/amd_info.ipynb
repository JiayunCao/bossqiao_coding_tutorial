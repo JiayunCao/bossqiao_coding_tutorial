{
 "cells": [
  {
   "cell_type": "code",
   "execution_count": 4,
   "metadata": {},
   "outputs": [],
   "source": [
    "from tk_library import excel_to_df\n",
    "_, amd_PL, amd_BS, amd_CF = excel_to_df(\"AMD_Y.xlsx\")"
   ]
  },
  {
   "cell_type": "code",
   "execution_count": 8,
   "metadata": {},
   "outputs": [
    {
     "data": {
      "text/html": [
       "<div>\n",
       "<style scoped>\n",
       "    .dataframe tbody tr th:only-of-type {\n",
       "        vertical-align: middle;\n",
       "    }\n",
       "\n",
       "    .dataframe tbody tr th {\n",
       "        vertical-align: top;\n",
       "    }\n",
       "\n",
       "    .dataframe thead th {\n",
       "        text-align: right;\n",
       "    }\n",
       "</style>\n",
       "<table border=\"1\" class=\"dataframe\">\n",
       "  <thead>\n",
       "    <tr style=\"text-align: right;\">\n",
       "      <th>in million USD</th>\n",
       "      <th>Revenue</th>\n",
       "      <th>Gross Profit</th>\n",
       "      <th>opt income</th>\n",
       "      <th>net income</th>\n",
       "      <th>g_ratio</th>\n",
       "    </tr>\n",
       "    <tr>\n",
       "      <th>2</th>\n",
       "      <th></th>\n",
       "      <th></th>\n",
       "      <th></th>\n",
       "      <th></th>\n",
       "      <th></th>\n",
       "    </tr>\n",
       "  </thead>\n",
       "  <tbody>\n",
       "    <tr>\n",
       "      <th>FY '09</th>\n",
       "      <td>5403</td>\n",
       "      <td>2272</td>\n",
       "      <td>-513</td>\n",
       "      <td>304</td>\n",
       "      <td>0.42</td>\n",
       "    </tr>\n",
       "    <tr>\n",
       "      <th>FY '10</th>\n",
       "      <td>6494</td>\n",
       "      <td>2961</td>\n",
       "      <td>561</td>\n",
       "      <td>471</td>\n",
       "      <td>0.46</td>\n",
       "    </tr>\n",
       "    <tr>\n",
       "      <th>FY '11</th>\n",
       "      <td>6568</td>\n",
       "      <td>2940</td>\n",
       "      <td>466</td>\n",
       "      <td>491</td>\n",
       "      <td>0.45</td>\n",
       "    </tr>\n",
       "    <tr>\n",
       "      <th>FY '12</th>\n",
       "      <td>5422</td>\n",
       "      <td>1235</td>\n",
       "      <td>-956</td>\n",
       "      <td>-1183</td>\n",
       "      <td>0.23</td>\n",
       "    </tr>\n",
       "    <tr>\n",
       "      <th>FY '13</th>\n",
       "      <td>5299</td>\n",
       "      <td>1978</td>\n",
       "      <td>85</td>\n",
       "      <td>-83</td>\n",
       "      <td>0.37</td>\n",
       "    </tr>\n",
       "    <tr>\n",
       "      <th>FY '14</th>\n",
       "      <td>5506</td>\n",
       "      <td>1839</td>\n",
       "      <td>149</td>\n",
       "      <td>-403</td>\n",
       "      <td>0.33</td>\n",
       "    </tr>\n",
       "    <tr>\n",
       "      <th>FY '15</th>\n",
       "      <td>3991</td>\n",
       "      <td>1080</td>\n",
       "      <td>-352</td>\n",
       "      <td>-660</td>\n",
       "      <td>0.27</td>\n",
       "    </tr>\n",
       "    <tr>\n",
       "      <th>FY '16</th>\n",
       "      <td>4319</td>\n",
       "      <td>1003</td>\n",
       "      <td>-471</td>\n",
       "      <td>-498</td>\n",
       "      <td>0.23</td>\n",
       "    </tr>\n",
       "    <tr>\n",
       "      <th>FY '17</th>\n",
       "      <td>5253</td>\n",
       "      <td>1787</td>\n",
       "      <td>75</td>\n",
       "      <td>-33</td>\n",
       "      <td>0.34</td>\n",
       "    </tr>\n",
       "    <tr>\n",
       "      <th>FY '18</th>\n",
       "      <td>6475</td>\n",
       "      <td>2447</td>\n",
       "      <td>451</td>\n",
       "      <td>337</td>\n",
       "      <td>0.38</td>\n",
       "    </tr>\n",
       "  </tbody>\n",
       "</table>\n",
       "</div>"
      ],
      "text/plain": [
       "in million USD  Revenue  Gross Profit  opt income  net income  g_ratio\n",
       "2                                                                     \n",
       "FY '09             5403          2272        -513         304     0.42\n",
       "FY '10             6494          2961         561         471     0.46\n",
       "FY '11             6568          2940         466         491     0.45\n",
       "FY '12             5422          1235        -956       -1183     0.23\n",
       "FY '13             5299          1978          85         -83     0.37\n",
       "FY '14             5506          1839         149        -403     0.33\n",
       "FY '15             3991          1080        -352        -660     0.27\n",
       "FY '16             4319          1003        -471        -498     0.23\n",
       "FY '17             5253          1787          75         -33     0.34\n",
       "FY '18             6475          2447         451         337     0.38"
      ]
     },
     "execution_count": 8,
     "metadata": {},
     "output_type": "execute_result"
    }
   ],
   "source": [
    "amd_info = amd_PL[[\"Revenue\", \"Gross Profit\",\"Operating Income (Loss)\",\"Net Income Available to Common Shareholders\"]].copy()\n",
    "amd_info.rename(columns = {amd_info.columns[2]:'opt income',amd_info.columns[3]:'net income'}, inplace=True)\n",
    "amd_info[\"g_ratio\"] = (amd_info[\"Gross Profit\"]/amd_info[\"Revenue\"]).round(2)\n",
    "amd_info"
   ]
  },
  {
   "cell_type": "markdown",
   "metadata": {},
   "source": [
    "- 下面开始画图啦"
   ]
  },
  {
   "cell_type": "code",
   "execution_count": 9,
   "metadata": {
    "collapsed": true
   },
   "outputs": [],
   "source": [
    "import plotly\n",
    "import plotly.plotly as py\n",
    "import plotly.graph_objs as go\n",
    "\n",
    "plotly.tools.set_credentials_file(username=\"bossqiao\", api_key=\"23AH57IhbCO6XrOcZzXt\")"
   ]
  },
  {
   "cell_type": "code",
   "execution_count": 13,
   "metadata": {},
   "outputs": [
    {
     "data": {
      "text/html": [
       "<iframe id=\"igraph\" scrolling=\"no\" style=\"border:none;\" seamless=\"seamless\" src=\"https://plot.ly/~bossqiao/12.embed\" height=\"525px\" width=\"100%\"></iframe>"
      ],
      "text/plain": [
       "<plotly.tools.PlotlyDisplay object>"
      ]
     },
     "execution_count": 13,
     "metadata": {},
     "output_type": "execute_result"
    }
   ],
   "source": [
    "revenue = go.Bar(\n",
    "    x=amd_info.index,\n",
    "    y=amd_info[\"Revenue\"],\n",
    "    name=\"Revenue\"\n",
    ")\n",
    "\n",
    "gross_profit = go.Bar(\n",
    "    x=amd_info.index,\n",
    "    y=amd_info[\"Gross Profit\"],\n",
    "    name=\"Gross Profit\"\n",
    ")\n",
    "\n",
    "opt_income = go.Bar(\n",
    "    x=amd_info.index,\n",
    "    y=amd_info[\"opt income\"],\n",
    "    name=\"Operating Income\"\n",
    ")\n",
    "\n",
    "net_income = go.Bar(\n",
    "    x=amd_info.index,\n",
    "    y=amd_info[\"net income\"],\n",
    "    name=\"Net Income\"\n",
    ")\n",
    "\n",
    "data = [revenue, gross_profit, opt_income, net_income]\n",
    "\n",
    "layout = go.Layout(barmode=\"stack\")\n",
    "\n",
    "fig_bs = go.Figure(data=data, layout=layout)\n",
    "py.iplot(fig_bs, filename='AMD Info Bar')"
   ]
  },
  {
   "cell_type": "code",
   "execution_count": 15,
   "metadata": {},
   "outputs": [
    {
     "data": {
      "text/html": [
       "<iframe id=\"igraph\" scrolling=\"no\" style=\"border:none;\" seamless=\"seamless\" src=\"https://plot.ly/~bossqiao/14.embed\" height=\"525px\" width=\"100%\"></iframe>"
      ],
      "text/plain": [
       "<plotly.tools.PlotlyDisplay object>"
      ]
     },
     "execution_count": 15,
     "metadata": {},
     "output_type": "execute_result"
    }
   ],
   "source": [
    "revenue = go.Scatter(\n",
    "    x=amd_info.index,\n",
    "    y=amd_info[\"Revenue\"],\n",
    "    name=\"Revenue\"\n",
    ")\n",
    "\n",
    "gross_profit = go.Scatter(\n",
    "    x=amd_info.index,\n",
    "    y=amd_info[\"Gross Profit\"],\n",
    "    name=\"Gross Profit\"\n",
    ")\n",
    "\n",
    "opt_income = go.Scatter(\n",
    "    x=amd_info.index,\n",
    "    y=amd_info[\"opt income\"],\n",
    "    name=\"Operating Income\"\n",
    ")\n",
    "\n",
    "net_income = go.Scatter(\n",
    "    x=amd_info.index,\n",
    "    y=amd_info[\"net income\"],\n",
    "    name=\"Net Income\"\n",
    ")\n",
    "\n",
    "data = [revenue, gross_profit, opt_income, net_income]\n",
    "\n",
    "fig_bs = go.Figure(data=data)\n",
    "py.iplot(fig_bs, filename='AMD Info Scatter')"
   ]
  },
  {
   "cell_type": "code",
   "execution_count": 17,
   "metadata": {},
   "outputs": [
    {
     "data": {
      "text/html": [
       "<iframe id=\"igraph\" scrolling=\"no\" style=\"border:none;\" seamless=\"seamless\" src=\"https://plot.ly/~bossqiao/8.embed\" height=\"525px\" width=\"100%\"></iframe>"
      ],
      "text/plain": [
       "<plotly.tools.PlotlyDisplay object>"
      ]
     },
     "execution_count": 17,
     "metadata": {},
     "output_type": "execute_result"
    }
   ],
   "source": [
    "g_ratio = go.Scatter(\n",
    "    x=amd_info.index,\n",
    "    y=amd_info[\"g_ratio\"],\n",
    "    name=\"Gross Ratio\"\n",
    ")\n",
    "\n",
    "data = [g_ratio]\n",
    "\n",
    "fig_bs = go.Figure(data=data)\n",
    "py.iplot(fig_bs, filename = 'amd_g_ratio_2009-2018')"
   ]
  }
 ],
 "metadata": {
  "kernelspec": {
   "display_name": "Python 3",
   "language": "python",
   "name": "python3"
  },
  "language_info": {
   "codemirror_mode": {
    "name": "ipython",
    "version": 3
   },
   "file_extension": ".py",
   "mimetype": "text/x-python",
   "name": "python",
   "nbconvert_exporter": "python",
   "pygments_lexer": "ipython3",
   "version": "3.6.8"
  }
 },
 "nbformat": 4,
 "nbformat_minor": 2
}
